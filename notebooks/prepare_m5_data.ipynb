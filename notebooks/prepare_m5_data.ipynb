{
 "cells": [
  {
   "cell_type": "markdown",
   "metadata": {},
   "source": [
    "## Libraries"
   ]
  },
  {
   "cell_type": "code",
   "execution_count": 1,
   "metadata": {},
   "outputs": [],
   "source": [
    "import polars as pl\n",
    "from pathlib import Path\n",
    "from datetime import datetime"
   ]
  },
  {
   "cell_type": "markdown",
   "metadata": {},
   "source": [
    "## Paths"
   ]
  },
  {
   "cell_type": "code",
   "execution_count": 2,
   "metadata": {},
   "outputs": [],
   "source": [
    "root_dir = Path(\"..\")\n",
    "data_dir = root_dir / \"data/m5\"\n",
    "processed_data_dir = data_dir / \"processed\"\n",
    "\n",
    "processed_data_dir.mkdir(exist_ok=True)"
   ]
  },
  {
   "cell_type": "markdown",
   "metadata": {},
   "source": [
    "## Prepare data"
   ]
  },
  {
   "cell_type": "code",
   "execution_count": 3,
   "metadata": {},
   "outputs": [],
   "source": [
    "sales_df = pl.read_csv(data_dir / \"sales_train_evaluation.csv\")\n",
    "prices_df = pl.read_csv(data_dir / \"sell_prices.csv\")\n",
    "calendar_df = pl.read_csv(data_dir / \"calendar.csv\")\n",
    "\n",
    "hierarchy_df = (\n",
    "    sales_df\n",
    "    .rename({\"id\": \"unique_id\"})\n",
    "    .select([\"unique_id\", \"item_id\", \"dept_id\", \"cat_id\", \"store_id\", \"state_id\"])\n",
    "    .with_columns(\n",
    "        pl.col(\"unique_id\").str.replace(\"_evaluation\", \"\")\n",
    "    )\n",
    ")\n",
    "\n",
    "calendar_df = (\n",
    "    calendar_df\n",
    "    .with_columns(\n",
    "        pl.col(\"date\").cast(pl.datatypes.Date),\n",
    "        pl.col(\"d\").str.replace(\"d_\", \"\").cast(pl.datatypes.Int64)\n",
    "    )\n",
    "    .drop(\"weekday\")\n",
    "    .rename({\"d\": \"i\"})\n",
    ")\n",
    "\n",
    "sales_df = (\n",
    "    sales_df\n",
    "    .rename({\"id\": \"unique_id\"})\n",
    "    .with_columns(\n",
    "        pl.col(\"unique_id\").str.replace(\"_evaluation\", \"\")\n",
    "    )\n",
    "    .drop([\"item_id\", \"dept_id\", \"cat_id\", \"store_id\", \"state_id\"])\n",
    "    .unpivot(index=[\"unique_id\"], variable_name=\"i\", value_name=\"y\")\n",
    "    .with_columns(\n",
    "        pl.col(\"i\").str.replace(\"d_\", \"\").cast(pl.datatypes.Int64)\n",
    "    )\n",
    "    .join(hierarchy_df.select(\"unique_id\", \"item_id\", \"store_id\"), on=\"unique_id\", how=\"left\")\n",
    "    .join(calendar_df, on=\"i\", how=\"left\")\n",
    "    .join(prices_df, on=[\"item_id\", \"store_id\", \"wm_yr_wk\"], how=\"left\")\n",
    "    .drop(\"item_id\", \"store_id\")\n",
    ")"
   ]
  },
  {
   "cell_type": "code",
   "execution_count": 4,
   "metadata": {},
   "outputs": [
    {
     "data": {
      "text/html": [
       "<div><style>\n",
       ".dataframe > thead > tr,\n",
       ".dataframe > tbody > tr {\n",
       "  text-align: right;\n",
       "  white-space: pre-wrap;\n",
       "}\n",
       "</style>\n",
       "<small>shape: (59_181_090, 16)</small><table border=\"1\" class=\"dataframe\"><thead><tr><th>unique_id</th><th>i</th><th>y</th><th>date</th><th>wm_yr_wk</th><th>wday</th><th>month</th><th>year</th><th>event_name_1</th><th>event_type_1</th><th>event_name_2</th><th>event_type_2</th><th>snap_CA</th><th>snap_TX</th><th>snap_WI</th><th>sell_price</th></tr><tr><td>str</td><td>i64</td><td>i64</td><td>date</td><td>i64</td><td>i64</td><td>i64</td><td>i64</td><td>str</td><td>str</td><td>str</td><td>str</td><td>i64</td><td>i64</td><td>i64</td><td>f64</td></tr></thead><tbody><tr><td>&quot;HOBBIES_1_001_CA_1&quot;</td><td>1</td><td>0</td><td>2011-01-29</td><td>11101</td><td>1</td><td>1</td><td>2011</td><td>null</td><td>null</td><td>null</td><td>null</td><td>0</td><td>0</td><td>0</td><td>null</td></tr><tr><td>&quot;HOBBIES_1_002_CA_1&quot;</td><td>1</td><td>0</td><td>2011-01-29</td><td>11101</td><td>1</td><td>1</td><td>2011</td><td>null</td><td>null</td><td>null</td><td>null</td><td>0</td><td>0</td><td>0</td><td>null</td></tr><tr><td>&quot;HOBBIES_1_003_CA_1&quot;</td><td>1</td><td>0</td><td>2011-01-29</td><td>11101</td><td>1</td><td>1</td><td>2011</td><td>null</td><td>null</td><td>null</td><td>null</td><td>0</td><td>0</td><td>0</td><td>null</td></tr><tr><td>&quot;HOBBIES_1_004_CA_1&quot;</td><td>1</td><td>0</td><td>2011-01-29</td><td>11101</td><td>1</td><td>1</td><td>2011</td><td>null</td><td>null</td><td>null</td><td>null</td><td>0</td><td>0</td><td>0</td><td>null</td></tr><tr><td>&quot;HOBBIES_1_005_CA_1&quot;</td><td>1</td><td>0</td><td>2011-01-29</td><td>11101</td><td>1</td><td>1</td><td>2011</td><td>null</td><td>null</td><td>null</td><td>null</td><td>0</td><td>0</td><td>0</td><td>null</td></tr><tr><td>&hellip;</td><td>&hellip;</td><td>&hellip;</td><td>&hellip;</td><td>&hellip;</td><td>&hellip;</td><td>&hellip;</td><td>&hellip;</td><td>&hellip;</td><td>&hellip;</td><td>&hellip;</td><td>&hellip;</td><td>&hellip;</td><td>&hellip;</td><td>&hellip;</td><td>&hellip;</td></tr><tr><td>&quot;FOODS_3_823_WI_3&quot;</td><td>1941</td><td>1</td><td>2016-05-22</td><td>11617</td><td>2</td><td>5</td><td>2016</td><td>null</td><td>null</td><td>null</td><td>null</td><td>0</td><td>0</td><td>0</td><td>2.98</td></tr><tr><td>&quot;FOODS_3_824_WI_3&quot;</td><td>1941</td><td>0</td><td>2016-05-22</td><td>11617</td><td>2</td><td>5</td><td>2016</td><td>null</td><td>null</td><td>null</td><td>null</td><td>0</td><td>0</td><td>0</td><td>2.48</td></tr><tr><td>&quot;FOODS_3_825_WI_3&quot;</td><td>1941</td><td>2</td><td>2016-05-22</td><td>11617</td><td>2</td><td>5</td><td>2016</td><td>null</td><td>null</td><td>null</td><td>null</td><td>0</td><td>0</td><td>0</td><td>3.98</td></tr><tr><td>&quot;FOODS_3_826_WI_3&quot;</td><td>1941</td><td>0</td><td>2016-05-22</td><td>11617</td><td>2</td><td>5</td><td>2016</td><td>null</td><td>null</td><td>null</td><td>null</td><td>0</td><td>0</td><td>0</td><td>1.28</td></tr><tr><td>&quot;FOODS_3_827_WI_3&quot;</td><td>1941</td><td>1</td><td>2016-05-22</td><td>11617</td><td>2</td><td>5</td><td>2016</td><td>null</td><td>null</td><td>null</td><td>null</td><td>0</td><td>0</td><td>0</td><td>1.0</td></tr></tbody></table></div>"
      ],
      "text/plain": [
       "shape: (59_181_090, 16)\n",
       "┌────────────────────┬──────┬─────┬────────────┬───┬─────────┬─────────┬─────────┬────────────┐\n",
       "│ unique_id          ┆ i    ┆ y   ┆ date       ┆ … ┆ snap_CA ┆ snap_TX ┆ snap_WI ┆ sell_price │\n",
       "│ ---                ┆ ---  ┆ --- ┆ ---        ┆   ┆ ---     ┆ ---     ┆ ---     ┆ ---        │\n",
       "│ str                ┆ i64  ┆ i64 ┆ date       ┆   ┆ i64     ┆ i64     ┆ i64     ┆ f64        │\n",
       "╞════════════════════╪══════╪═════╪════════════╪═══╪═════════╪═════════╪═════════╪════════════╡\n",
       "│ HOBBIES_1_001_CA_1 ┆ 1    ┆ 0   ┆ 2011-01-29 ┆ … ┆ 0       ┆ 0       ┆ 0       ┆ null       │\n",
       "│ HOBBIES_1_002_CA_1 ┆ 1    ┆ 0   ┆ 2011-01-29 ┆ … ┆ 0       ┆ 0       ┆ 0       ┆ null       │\n",
       "│ HOBBIES_1_003_CA_1 ┆ 1    ┆ 0   ┆ 2011-01-29 ┆ … ┆ 0       ┆ 0       ┆ 0       ┆ null       │\n",
       "│ HOBBIES_1_004_CA_1 ┆ 1    ┆ 0   ┆ 2011-01-29 ┆ … ┆ 0       ┆ 0       ┆ 0       ┆ null       │\n",
       "│ HOBBIES_1_005_CA_1 ┆ 1    ┆ 0   ┆ 2011-01-29 ┆ … ┆ 0       ┆ 0       ┆ 0       ┆ null       │\n",
       "│ …                  ┆ …    ┆ …   ┆ …          ┆ … ┆ …       ┆ …       ┆ …       ┆ …          │\n",
       "│ FOODS_3_823_WI_3   ┆ 1941 ┆ 1   ┆ 2016-05-22 ┆ … ┆ 0       ┆ 0       ┆ 0       ┆ 2.98       │\n",
       "│ FOODS_3_824_WI_3   ┆ 1941 ┆ 0   ┆ 2016-05-22 ┆ … ┆ 0       ┆ 0       ┆ 0       ┆ 2.48       │\n",
       "│ FOODS_3_825_WI_3   ┆ 1941 ┆ 2   ┆ 2016-05-22 ┆ … ┆ 0       ┆ 0       ┆ 0       ┆ 3.98       │\n",
       "│ FOODS_3_826_WI_3   ┆ 1941 ┆ 0   ┆ 2016-05-22 ┆ … ┆ 0       ┆ 0       ┆ 0       ┆ 1.28       │\n",
       "│ FOODS_3_827_WI_3   ┆ 1941 ┆ 1   ┆ 2016-05-22 ┆ … ┆ 0       ┆ 0       ┆ 0       ┆ 1.0        │\n",
       "└────────────────────┴──────┴─────┴────────────┴───┴─────────┴─────────┴─────────┴────────────┘"
      ]
     },
     "execution_count": 4,
     "metadata": {},
     "output_type": "execute_result"
    }
   ],
   "source": [
    "sales_df"
   ]
  },
  {
   "cell_type": "code",
   "execution_count": 5,
   "metadata": {},
   "outputs": [
    {
     "data": {
      "text/html": [
       "<div><style>\n",
       ".dataframe > thead > tr,\n",
       ".dataframe > tbody > tr {\n",
       "  text-align: right;\n",
       "  white-space: pre-wrap;\n",
       "}\n",
       "</style>\n",
       "<small>shape: (30_490, 6)</small><table border=\"1\" class=\"dataframe\"><thead><tr><th>unique_id</th><th>item_id</th><th>dept_id</th><th>cat_id</th><th>store_id</th><th>state_id</th></tr><tr><td>str</td><td>str</td><td>str</td><td>str</td><td>str</td><td>str</td></tr></thead><tbody><tr><td>&quot;HOBBIES_1_001_CA_1&quot;</td><td>&quot;HOBBIES_1_001&quot;</td><td>&quot;HOBBIES_1&quot;</td><td>&quot;HOBBIES&quot;</td><td>&quot;CA_1&quot;</td><td>&quot;CA&quot;</td></tr><tr><td>&quot;HOBBIES_1_002_CA_1&quot;</td><td>&quot;HOBBIES_1_002&quot;</td><td>&quot;HOBBIES_1&quot;</td><td>&quot;HOBBIES&quot;</td><td>&quot;CA_1&quot;</td><td>&quot;CA&quot;</td></tr><tr><td>&quot;HOBBIES_1_003_CA_1&quot;</td><td>&quot;HOBBIES_1_003&quot;</td><td>&quot;HOBBIES_1&quot;</td><td>&quot;HOBBIES&quot;</td><td>&quot;CA_1&quot;</td><td>&quot;CA&quot;</td></tr><tr><td>&quot;HOBBIES_1_004_CA_1&quot;</td><td>&quot;HOBBIES_1_004&quot;</td><td>&quot;HOBBIES_1&quot;</td><td>&quot;HOBBIES&quot;</td><td>&quot;CA_1&quot;</td><td>&quot;CA&quot;</td></tr><tr><td>&quot;HOBBIES_1_005_CA_1&quot;</td><td>&quot;HOBBIES_1_005&quot;</td><td>&quot;HOBBIES_1&quot;</td><td>&quot;HOBBIES&quot;</td><td>&quot;CA_1&quot;</td><td>&quot;CA&quot;</td></tr><tr><td>&hellip;</td><td>&hellip;</td><td>&hellip;</td><td>&hellip;</td><td>&hellip;</td><td>&hellip;</td></tr><tr><td>&quot;FOODS_3_823_WI_3&quot;</td><td>&quot;FOODS_3_823&quot;</td><td>&quot;FOODS_3&quot;</td><td>&quot;FOODS&quot;</td><td>&quot;WI_3&quot;</td><td>&quot;WI&quot;</td></tr><tr><td>&quot;FOODS_3_824_WI_3&quot;</td><td>&quot;FOODS_3_824&quot;</td><td>&quot;FOODS_3&quot;</td><td>&quot;FOODS&quot;</td><td>&quot;WI_3&quot;</td><td>&quot;WI&quot;</td></tr><tr><td>&quot;FOODS_3_825_WI_3&quot;</td><td>&quot;FOODS_3_825&quot;</td><td>&quot;FOODS_3&quot;</td><td>&quot;FOODS&quot;</td><td>&quot;WI_3&quot;</td><td>&quot;WI&quot;</td></tr><tr><td>&quot;FOODS_3_826_WI_3&quot;</td><td>&quot;FOODS_3_826&quot;</td><td>&quot;FOODS_3&quot;</td><td>&quot;FOODS&quot;</td><td>&quot;WI_3&quot;</td><td>&quot;WI&quot;</td></tr><tr><td>&quot;FOODS_3_827_WI_3&quot;</td><td>&quot;FOODS_3_827&quot;</td><td>&quot;FOODS_3&quot;</td><td>&quot;FOODS&quot;</td><td>&quot;WI_3&quot;</td><td>&quot;WI&quot;</td></tr></tbody></table></div>"
      ],
      "text/plain": [
       "shape: (30_490, 6)\n",
       "┌────────────────────┬───────────────┬───────────┬─────────┬──────────┬──────────┐\n",
       "│ unique_id          ┆ item_id       ┆ dept_id   ┆ cat_id  ┆ store_id ┆ state_id │\n",
       "│ ---                ┆ ---           ┆ ---       ┆ ---     ┆ ---      ┆ ---      │\n",
       "│ str                ┆ str           ┆ str       ┆ str     ┆ str      ┆ str      │\n",
       "╞════════════════════╪═══════════════╪═══════════╪═════════╪══════════╪══════════╡\n",
       "│ HOBBIES_1_001_CA_1 ┆ HOBBIES_1_001 ┆ HOBBIES_1 ┆ HOBBIES ┆ CA_1     ┆ CA       │\n",
       "│ HOBBIES_1_002_CA_1 ┆ HOBBIES_1_002 ┆ HOBBIES_1 ┆ HOBBIES ┆ CA_1     ┆ CA       │\n",
       "│ HOBBIES_1_003_CA_1 ┆ HOBBIES_1_003 ┆ HOBBIES_1 ┆ HOBBIES ┆ CA_1     ┆ CA       │\n",
       "│ HOBBIES_1_004_CA_1 ┆ HOBBIES_1_004 ┆ HOBBIES_1 ┆ HOBBIES ┆ CA_1     ┆ CA       │\n",
       "│ HOBBIES_1_005_CA_1 ┆ HOBBIES_1_005 ┆ HOBBIES_1 ┆ HOBBIES ┆ CA_1     ┆ CA       │\n",
       "│ …                  ┆ …             ┆ …         ┆ …       ┆ …        ┆ …        │\n",
       "│ FOODS_3_823_WI_3   ┆ FOODS_3_823   ┆ FOODS_3   ┆ FOODS   ┆ WI_3     ┆ WI       │\n",
       "│ FOODS_3_824_WI_3   ┆ FOODS_3_824   ┆ FOODS_3   ┆ FOODS   ┆ WI_3     ┆ WI       │\n",
       "│ FOODS_3_825_WI_3   ┆ FOODS_3_825   ┆ FOODS_3   ┆ FOODS   ┆ WI_3     ┆ WI       │\n",
       "│ FOODS_3_826_WI_3   ┆ FOODS_3_826   ┆ FOODS_3   ┆ FOODS   ┆ WI_3     ┆ WI       │\n",
       "│ FOODS_3_827_WI_3   ┆ FOODS_3_827   ┆ FOODS_3   ┆ FOODS   ┆ WI_3     ┆ WI       │\n",
       "└────────────────────┴───────────────┴───────────┴─────────┴──────────┴──────────┘"
      ]
     },
     "execution_count": 5,
     "metadata": {},
     "output_type": "execute_result"
    }
   ],
   "source": [
    "hierarchy_df"
   ]
  },
  {
   "cell_type": "code",
   "execution_count": 6,
   "metadata": {},
   "outputs": [],
   "source": [
    "sales_df.write_parquet(processed_data_dir / \"sales_df.parquet\")\n",
    "hierarchy_df.write_parquet(processed_data_dir / \"hierarchy_df.parquet\")"
   ]
  },
  {
   "cell_type": "code",
   "execution_count": null,
   "metadata": {},
   "outputs": [],
   "source": []
  }
 ],
 "metadata": {
  "kernelspec": {
   "display_name": "azure-forecasting",
   "language": "python",
   "name": "python3"
  },
  "language_info": {
   "codemirror_mode": {
    "name": "ipython",
    "version": 3
   },
   "file_extension": ".py",
   "mimetype": "text/x-python",
   "name": "python",
   "nbconvert_exporter": "python",
   "pygments_lexer": "ipython3",
   "version": "3.10.14"
  }
 },
 "nbformat": 4,
 "nbformat_minor": 2
}
